{
 "cells": [
  {
   "cell_type": "markdown",
   "metadata": {},
   "source": [
    "# Predicting Stock Prices from Expected Earnings\n",
    "## 1. Overview\n",
    "This project uses a Long Short-Term Memory (LSTM) network through TensorFlow to predict stock prices the day after an earnings report. It takes as input the daily stock prices for the (approximately) 3-month period leading up to the earnings report, as well as the expected Earnings Per Share (EPS) prior to the report. Its output is the expected % difference between the next day's closing price and the previous day's high price.\n",
    "## 2. Collecting and Cleaning Data\n",
    "Data will be taken from the last 8 years' historical stock prices and earnings reports. It is housed in stocks_latest, which you should download on your own at <a href=\"https://www.kaggle.com/tsaustin/us-historical-stock-prices-with-earnings-data\">this link</a>."
   ]
  },
  {
   "cell_type": "markdown",
   "metadata": {},
   "source": [
    "First, let's import the packages we'll be using."
   ]
  },
  {
   "cell_type": "code",
   "execution_count": 1,
   "metadata": {},
   "outputs": [],
   "source": [
    "import os\n",
    "import datetime\n",
    "\n",
    "import matplotlib as mpl\n",
    "import matplotlib.pyplot as plt\n",
    "import numpy as np\n",
    "import pandas as pd\n",
    "from pandas.tseries.offsets import BDay\n",
    "import seaborn as sns\n",
    "import tensorflow as tf\n",
    "from tensorflow.python.client import device_lib\n",
    "from IPython.display import display, clear_output\n",
    "from sklearn.utils import shuffle\n",
    "from sklearn.model_selection import train_test_split"
   ]
  },
  {
   "cell_type": "markdown",
   "metadata": {},
   "source": [
    "Make sure we're running tensorflow on GPU (if applicable):"
   ]
  },
  {
   "cell_type": "code",
   "execution_count": 2,
   "metadata": {},
   "outputs": [
    {
     "name": "stdout",
     "output_type": "stream",
     "text": [
      "Device mapping:\n",
      "/job:localhost/replica:0/task:0/device:GPU:0 -> device: 0, name: GeForce GTX 1080 Ti, pci bus id: 0000:01:00.0, compute capability: 6.1\n",
      "\n"
     ]
    }
   ],
   "source": [
    "sess = tf.compat.v1.Session(config=tf.compat.v1.ConfigProto(log_device_placement=True))"
   ]
  },
  {
   "cell_type": "markdown",
   "metadata": {},
   "source": [
    "Next, we'll extract our data as pandas dataframes."
   ]
  },
  {
   "cell_type": "code",
   "execution_count": 3,
   "metadata": {},
   "outputs": [],
   "source": [
    "stocks_data_path = \"./datasets/stock_prices_latest.csv\"\n",
    "earnings_data_path = \"./datasets/earnings_latest.csv\"\n",
    "\n",
    "stocks_df_init = pd.read_csv(stocks_data_path)\n",
    "earnings_df_init = pd.read_csv(earnings_data_path)"
   ]
  },
  {
   "cell_type": "markdown",
   "metadata": {},
   "source": [
    "Let's see what data our stocks and earnings files contain:"
   ]
  },
  {
   "cell_type": "code",
   "execution_count": 4,
   "metadata": {},
   "outputs": [
    {
     "data": {
      "text/html": [
       "<div>\n",
       "<style scoped>\n",
       "    .dataframe tbody tr th:only-of-type {\n",
       "        vertical-align: middle;\n",
       "    }\n",
       "\n",
       "    .dataframe tbody tr th {\n",
       "        vertical-align: top;\n",
       "    }\n",
       "\n",
       "    .dataframe thead th {\n",
       "        text-align: right;\n",
       "    }\n",
       "</style>\n",
       "<table border=\"1\" class=\"dataframe\">\n",
       "  <thead>\n",
       "    <tr style=\"text-align: right;\">\n",
       "      <th></th>\n",
       "      <th>symbol</th>\n",
       "      <th>date</th>\n",
       "      <th>open</th>\n",
       "      <th>high</th>\n",
       "      <th>low</th>\n",
       "      <th>close</th>\n",
       "      <th>close_adjusted</th>\n",
       "      <th>volume</th>\n",
       "      <th>split_coefficient</th>\n",
       "    </tr>\n",
       "  </thead>\n",
       "  <tbody>\n",
       "    <tr>\n",
       "      <th>0</th>\n",
       "      <td>MSFT</td>\n",
       "      <td>2016-05-16</td>\n",
       "      <td>50.80</td>\n",
       "      <td>51.96</td>\n",
       "      <td>50.75</td>\n",
       "      <td>51.83</td>\n",
       "      <td>49.7013</td>\n",
       "      <td>20032017</td>\n",
       "      <td>1.0</td>\n",
       "    </tr>\n",
       "    <tr>\n",
       "      <th>1</th>\n",
       "      <td>MSFT</td>\n",
       "      <td>2002-01-16</td>\n",
       "      <td>68.85</td>\n",
       "      <td>69.84</td>\n",
       "      <td>67.85</td>\n",
       "      <td>67.87</td>\n",
       "      <td>22.5902</td>\n",
       "      <td>30977700</td>\n",
       "      <td>1.0</td>\n",
       "    </tr>\n",
       "    <tr>\n",
       "      <th>2</th>\n",
       "      <td>MSFT</td>\n",
       "      <td>2001-09-18</td>\n",
       "      <td>53.41</td>\n",
       "      <td>55.00</td>\n",
       "      <td>53.17</td>\n",
       "      <td>54.32</td>\n",
       "      <td>18.0802</td>\n",
       "      <td>41591300</td>\n",
       "      <td>1.0</td>\n",
       "    </tr>\n",
       "    <tr>\n",
       "      <th>3</th>\n",
       "      <td>MSFT</td>\n",
       "      <td>2007-10-26</td>\n",
       "      <td>36.01</td>\n",
       "      <td>36.03</td>\n",
       "      <td>34.56</td>\n",
       "      <td>35.03</td>\n",
       "      <td>27.2232</td>\n",
       "      <td>288121200</td>\n",
       "      <td>1.0</td>\n",
       "    </tr>\n",
       "    <tr>\n",
       "      <th>4</th>\n",
       "      <td>MSFT</td>\n",
       "      <td>2014-06-27</td>\n",
       "      <td>41.61</td>\n",
       "      <td>42.29</td>\n",
       "      <td>41.51</td>\n",
       "      <td>42.25</td>\n",
       "      <td>38.6773</td>\n",
       "      <td>74640000</td>\n",
       "      <td>1.0</td>\n",
       "    </tr>\n",
       "  </tbody>\n",
       "</table>\n",
       "</div>"
      ],
      "text/plain": [
       "  symbol        date   open   high    low  close  close_adjusted     volume  \\\n",
       "0   MSFT  2016-05-16  50.80  51.96  50.75  51.83         49.7013   20032017   \n",
       "1   MSFT  2002-01-16  68.85  69.84  67.85  67.87         22.5902   30977700   \n",
       "2   MSFT  2001-09-18  53.41  55.00  53.17  54.32         18.0802   41591300   \n",
       "3   MSFT  2007-10-26  36.01  36.03  34.56  35.03         27.2232  288121200   \n",
       "4   MSFT  2014-06-27  41.61  42.29  41.51  42.25         38.6773   74640000   \n",
       "\n",
       "   split_coefficient  \n",
       "0                1.0  \n",
       "1                1.0  \n",
       "2                1.0  \n",
       "3                1.0  \n",
       "4                1.0  "
      ]
     },
     "execution_count": 4,
     "metadata": {},
     "output_type": "execute_result"
    }
   ],
   "source": [
    "stocks_df = stocks_df_init.copy()\n",
    "stocks_df.head()"
   ]
  },
  {
   "cell_type": "code",
   "execution_count": 5,
   "metadata": {},
   "outputs": [
    {
     "data": {
      "text/html": [
       "<div>\n",
       "<style scoped>\n",
       "    .dataframe tbody tr th:only-of-type {\n",
       "        vertical-align: middle;\n",
       "    }\n",
       "\n",
       "    .dataframe tbody tr th {\n",
       "        vertical-align: top;\n",
       "    }\n",
       "\n",
       "    .dataframe thead th {\n",
       "        text-align: right;\n",
       "    }\n",
       "</style>\n",
       "<table border=\"1\" class=\"dataframe\">\n",
       "  <thead>\n",
       "    <tr style=\"text-align: right;\">\n",
       "      <th></th>\n",
       "      <th>symbol</th>\n",
       "      <th>date</th>\n",
       "      <th>qtr</th>\n",
       "      <th>eps_est</th>\n",
       "      <th>eps</th>\n",
       "      <th>release_time</th>\n",
       "    </tr>\n",
       "  </thead>\n",
       "  <tbody>\n",
       "    <tr>\n",
       "      <th>0</th>\n",
       "      <td>A</td>\n",
       "      <td>2009-05-14</td>\n",
       "      <td>04/2009</td>\n",
       "      <td>NaN</td>\n",
       "      <td>NaN</td>\n",
       "      <td>post</td>\n",
       "    </tr>\n",
       "    <tr>\n",
       "      <th>1</th>\n",
       "      <td>A</td>\n",
       "      <td>2009-08-17</td>\n",
       "      <td>07/2009</td>\n",
       "      <td>NaN</td>\n",
       "      <td>NaN</td>\n",
       "      <td>post</td>\n",
       "    </tr>\n",
       "    <tr>\n",
       "      <th>2</th>\n",
       "      <td>A</td>\n",
       "      <td>2009-11-13</td>\n",
       "      <td>10/2009</td>\n",
       "      <td>NaN</td>\n",
       "      <td>NaN</td>\n",
       "      <td>pre</td>\n",
       "    </tr>\n",
       "    <tr>\n",
       "      <th>3</th>\n",
       "      <td>A</td>\n",
       "      <td>2010-02-12</td>\n",
       "      <td>01/2010</td>\n",
       "      <td>NaN</td>\n",
       "      <td>NaN</td>\n",
       "      <td>pre</td>\n",
       "    </tr>\n",
       "    <tr>\n",
       "      <th>4</th>\n",
       "      <td>A</td>\n",
       "      <td>2010-05-17</td>\n",
       "      <td>04/2010</td>\n",
       "      <td>NaN</td>\n",
       "      <td>NaN</td>\n",
       "      <td>post</td>\n",
       "    </tr>\n",
       "  </tbody>\n",
       "</table>\n",
       "</div>"
      ],
      "text/plain": [
       "  symbol        date      qtr  eps_est  eps release_time\n",
       "0      A  2009-05-14  04/2009      NaN  NaN         post\n",
       "1      A  2009-08-17  07/2009      NaN  NaN         post\n",
       "2      A  2009-11-13  10/2009      NaN  NaN          pre\n",
       "3      A  2010-02-12  01/2010      NaN  NaN          pre\n",
       "4      A  2010-05-17  04/2010      NaN  NaN         post"
      ]
     },
     "execution_count": 5,
     "metadata": {},
     "output_type": "execute_result"
    }
   ],
   "source": [
    "earnings_df = earnings_df_init.copy()\n",
    "earnings_df.head()"
   ]
  },
  {
   "cell_type": "markdown",
   "metadata": {},
   "source": [
    "We'll do the following to clean up the stocks dataset:\n",
    "1. Remove split_coefficient and close, opting for close_adjusted instead\n",
    "2. Rename close_adjusted to close\n",
    "3. Convert our dates to datetime objects in pandas\n",
    "4. Sort first by symbol, then by date\n",
    "5. Remove all data from before 2015"
   ]
  },
  {
   "cell_type": "code",
   "execution_count": 6,
   "metadata": {},
   "outputs": [
    {
     "data": {
      "text/html": [
       "<div>\n",
       "<style scoped>\n",
       "    .dataframe tbody tr th:only-of-type {\n",
       "        vertical-align: middle;\n",
       "    }\n",
       "\n",
       "    .dataframe tbody tr th {\n",
       "        vertical-align: top;\n",
       "    }\n",
       "\n",
       "    .dataframe thead th {\n",
       "        text-align: right;\n",
       "    }\n",
       "</style>\n",
       "<table border=\"1\" class=\"dataframe\">\n",
       "  <thead>\n",
       "    <tr style=\"text-align: right;\">\n",
       "      <th></th>\n",
       "      <th>symbol</th>\n",
       "      <th>date</th>\n",
       "      <th>open</th>\n",
       "      <th>high</th>\n",
       "      <th>low</th>\n",
       "      <th>close_adjusted</th>\n",
       "      <th>volume</th>\n",
       "      <th>percent_change</th>\n",
       "    </tr>\n",
       "  </thead>\n",
       "  <tbody>\n",
       "    <tr>\n",
       "      <th>8237673</th>\n",
       "      <td>A</td>\n",
       "      <td>2015-01-02</td>\n",
       "      <td>41.18</td>\n",
       "      <td>41.31</td>\n",
       "      <td>40.37</td>\n",
       "      <td>39.3484</td>\n",
       "      <td>1530798</td>\n",
       "      <td>0.004390</td>\n",
       "    </tr>\n",
       "    <tr>\n",
       "      <th>8236049</th>\n",
       "      <td>A</td>\n",
       "      <td>2015-01-05</td>\n",
       "      <td>40.32</td>\n",
       "      <td>40.46</td>\n",
       "      <td>39.70</td>\n",
       "      <td>38.6111</td>\n",
       "      <td>2042240</td>\n",
       "      <td>0.176196</td>\n",
       "    </tr>\n",
       "    <tr>\n",
       "      <th>8234683</th>\n",
       "      <td>A</td>\n",
       "      <td>2015-01-06</td>\n",
       "      <td>39.81</td>\n",
       "      <td>40.02</td>\n",
       "      <td>39.02</td>\n",
       "      <td>38.0096</td>\n",
       "      <td>2084562</td>\n",
       "      <td>-0.384318</td>\n",
       "    </tr>\n",
       "    <tr>\n",
       "      <th>8237067</th>\n",
       "      <td>A</td>\n",
       "      <td>2015-01-07</td>\n",
       "      <td>39.52</td>\n",
       "      <td>39.81</td>\n",
       "      <td>39.29</td>\n",
       "      <td>38.5141</td>\n",
       "      <td>3359660</td>\n",
       "      <td>-0.587818</td>\n",
       "    </tr>\n",
       "    <tr>\n",
       "      <th>8238420</th>\n",
       "      <td>A</td>\n",
       "      <td>2015-01-08</td>\n",
       "      <td>40.24</td>\n",
       "      <td>40.98</td>\n",
       "      <td>40.18</td>\n",
       "      <td>39.6686</td>\n",
       "      <td>2116341</td>\n",
       "      <td>1.857955</td>\n",
       "    </tr>\n",
       "  </tbody>\n",
       "</table>\n",
       "</div>"
      ],
      "text/plain": [
       "        symbol       date   open   high    low  close_adjusted   volume  \\\n",
       "8237673      A 2015-01-02  41.18  41.31  40.37         39.3484  1530798   \n",
       "8236049      A 2015-01-05  40.32  40.46  39.70         38.6111  2042240   \n",
       "8234683      A 2015-01-06  39.81  40.02  39.02         38.0096  2084562   \n",
       "8237067      A 2015-01-07  39.52  39.81  39.29         38.5141  3359660   \n",
       "8238420      A 2015-01-08  40.24  40.98  40.18         39.6686  2116341   \n",
       "\n",
       "         percent_change  \n",
       "8237673        0.004390  \n",
       "8236049        0.176196  \n",
       "8234683       -0.384318  \n",
       "8237067       -0.587818  \n",
       "8238420        1.857955  "
      ]
     },
     "execution_count": 6,
     "metadata": {},
     "output_type": "execute_result"
    }
   ],
   "source": [
    "stocks_df.drop(['split_coefficient','close'], axis=1, errors='ignore', inplace=True)\n",
    "stocks_df['date'] = pd.to_datetime(stocks_df.date)\n",
    "stocks_df['percent_change'] = (stocks_df['open'] - stocks_df['high'].shift(-1)) / stocks_df['high'].shift(-1)\n",
    "stocks_df = stocks_df[(stocks_df['date'].dt.year >= 2015)]\n",
    "stocks_df.sort_values(by=['symbol','date'], inplace=True)\n",
    "stocks_df.head()"
   ]
  },
  {
   "cell_type": "markdown",
   "metadata": {},
   "source": [
    "We'll be feeding our NN the stock data for individual stocks. First, we'll group the stock data by symbol and store in a dict of DataFrames."
   ]
  },
  {
   "cell_type": "code",
   "execution_count": 10,
   "metadata": {},
   "outputs": [
    {
     "data": {
      "text/html": [
       "<div>\n",
       "<style scoped>\n",
       "    .dataframe tbody tr th:only-of-type {\n",
       "        vertical-align: middle;\n",
       "    }\n",
       "\n",
       "    .dataframe tbody tr th {\n",
       "        vertical-align: top;\n",
       "    }\n",
       "\n",
       "    .dataframe thead th {\n",
       "        text-align: right;\n",
       "    }\n",
       "</style>\n",
       "<table border=\"1\" class=\"dataframe\">\n",
       "  <thead>\n",
       "    <tr style=\"text-align: right;\">\n",
       "      <th></th>\n",
       "      <th>symbol</th>\n",
       "      <th>date</th>\n",
       "      <th>open</th>\n",
       "      <th>high</th>\n",
       "      <th>low</th>\n",
       "      <th>close_adjusted</th>\n",
       "      <th>volume</th>\n",
       "      <th>percent_change</th>\n",
       "    </tr>\n",
       "  </thead>\n",
       "  <tbody>\n",
       "    <tr>\n",
       "      <th>20646711</th>\n",
       "      <td>ZM</td>\n",
       "      <td>2019-04-18</td>\n",
       "      <td>65.00</td>\n",
       "      <td>66.000</td>\n",
       "      <td>60.321</td>\n",
       "      <td>62.0</td>\n",
       "      <td>25764659</td>\n",
       "      <td>-0.056604</td>\n",
       "    </tr>\n",
       "    <tr>\n",
       "      <th>20646712</th>\n",
       "      <td>ZM</td>\n",
       "      <td>2019-04-22</td>\n",
       "      <td>61.00</td>\n",
       "      <td>68.900</td>\n",
       "      <td>59.940</td>\n",
       "      <td>65.7</td>\n",
       "      <td>9949738</td>\n",
       "      <td>-0.098300</td>\n",
       "    </tr>\n",
       "    <tr>\n",
       "      <th>20646710</th>\n",
       "      <td>ZM</td>\n",
       "      <td>2019-04-23</td>\n",
       "      <td>66.87</td>\n",
       "      <td>74.169</td>\n",
       "      <td>65.550</td>\n",
       "      <td>69.0</td>\n",
       "      <td>6786513</td>\n",
       "      <td>0.013182</td>\n",
       "    </tr>\n",
       "    <tr>\n",
       "      <th>20646715</th>\n",
       "      <td>ZM</td>\n",
       "      <td>2019-04-24</td>\n",
       "      <td>71.40</td>\n",
       "      <td>71.500</td>\n",
       "      <td>63.160</td>\n",
       "      <td>63.2</td>\n",
       "      <td>4973529</td>\n",
       "      <td>5.076596</td>\n",
       "    </tr>\n",
       "    <tr>\n",
       "      <th>20646709</th>\n",
       "      <td>ZM</td>\n",
       "      <td>2019-04-25</td>\n",
       "      <td>64.74</td>\n",
       "      <td>66.850</td>\n",
       "      <td>62.600</td>\n",
       "      <td>65.0</td>\n",
       "      <td>3863275</td>\n",
       "      <td>-0.127129</td>\n",
       "    </tr>\n",
       "  </tbody>\n",
       "</table>\n",
       "</div>"
      ],
      "text/plain": [
       "         symbol       date   open    high     low  close_adjusted    volume  \\\n",
       "20646711     ZM 2019-04-18  65.00  66.000  60.321            62.0  25764659   \n",
       "20646712     ZM 2019-04-22  61.00  68.900  59.940            65.7   9949738   \n",
       "20646710     ZM 2019-04-23  66.87  74.169  65.550            69.0   6786513   \n",
       "20646715     ZM 2019-04-24  71.40  71.500  63.160            63.2   4973529   \n",
       "20646709     ZM 2019-04-25  64.74  66.850  62.600            65.0   3863275   \n",
       "\n",
       "          percent_change  \n",
       "20646711       -0.056604  \n",
       "20646712       -0.098300  \n",
       "20646710        0.013182  \n",
       "20646715        5.076596  \n",
       "20646709       -0.127129  "
      ]
     },
     "execution_count": 10,
     "metadata": {},
     "output_type": "execute_result"
    }
   ],
   "source": [
    "stocks_sep = dict(tuple(stocks_df.groupby('symbol')))\n",
    "symbol1 = stocks_sep['ZM']\n",
    "stocks_sep['ZM'].head()"
   ]
  },
  {
   "cell_type": "markdown",
   "metadata": {},
   "source": [
    "Now we'll need to use our earnings data, and particularly the dates of earnings periods for each company, to further separate our data into 90-day chunks. Let's clean and explore our earnings data:"
   ]
  },
  {
   "cell_type": "code",
   "execution_count": 8,
   "metadata": {},
   "outputs": [],
   "source": [
    "earnings_df.drop(['release_time', 'qtr'], axis=1, errors='ignore', inplace=True)\n",
    "earnings_df['eps_est'].mask(pd.isna, earnings_df['eps'], inplace=True)\n",
    "earnings_df.dropna(inplace=True)\n",
    "earnings_df['date'] = pd.to_datetime(earnings_df.date)\n",
    "earnings_df = earnings_df[(earnings_df['date'].dt.year >= 2016)]\n",
    "earnings_df.sort_values(by=['symbol', 'date'], inplace=True)"
   ]
  },
  {
   "cell_type": "markdown",
   "metadata": {},
   "source": [
    "We'll need the start and end dates for each earnings period to split our input data. We'll also need each stock's percent change for each period. Let's calculate them and assign them to new columns in earnings_df."
   ]
  },
  {
   "cell_type": "code",
   "execution_count": 9,
   "metadata": {},
   "outputs": [
    {
     "name": "stdout",
     "output_type": "stream",
     "text": [
      "    symbol       date  eps_est   eps earnings_start earnings_end\n",
      "291   AAON 2016-02-25    0.200  0.24     2015-12-08   2016-02-24\n",
      "292   AAON 2016-05-05    0.200  0.20     2016-02-16   2016-05-04\n",
      "293   AAON 2016-08-04    0.270  0.27     2016-05-17   2016-08-03\n",
      "294   AAON 2016-11-03    0.290  0.29     2016-08-16   2016-11-02\n",
      "295   AAON 2017-02-23    0.240  0.21     2016-12-06   2017-02-22\n",
      "296   AAON 2017-05-04    0.200  0.19     2017-02-14   2017-05-03\n",
      "297   AAON 2017-08-03    0.280  0.26     2017-05-16   2017-08-02\n",
      "298   AAON 2017-11-02    0.300  0.28     2017-08-15   2017-11-01\n",
      "299   AAON 2018-02-27    0.240  0.22     2017-12-08   2018-02-26\n",
      "300   AAON 2018-05-03    0.240  0.08     2018-02-13   2018-05-02\n",
      "301   AAON 2018-08-02    0.200  0.22     2018-05-15   2018-08-01\n",
      "302   AAON 2018-11-01    0.300  0.27     2018-08-14   2018-10-31\n",
      "303   AAON 2019-02-28    0.277  0.24     2018-12-11   2019-02-27\n",
      "304   AAON 2019-05-02    0.233  0.21     2019-02-12   2019-05-01\n",
      "305   AAON 2019-10-31    0.284  0.26     2019-08-13   2019-10-30\n",
      "306   AAON 2020-02-27    0.293  0.33     2019-12-10   2020-02-26\n",
      "307   AAON 2020-05-07    0.353  0.41     2020-02-18   2020-05-06\n",
      "308   AAON 2020-08-06    0.364  0.34     2020-05-19   2020-08-05\n",
      "309   AAON 2020-11-05    0.335  0.38     2020-08-18   2020-11-04\n"
     ]
    }
   ],
   "source": [
    "earnings_df['earnings_start'] = earnings_df['date'] - BDay(57)\n",
    "earnings_df['earnings_end'] = earnings_df['date'] - BDay(1)\n",
    "earnings_df.head()\n",
    "print(earnings_df[earnings_df['symbol'] == 'AAON'])"
   ]
  },
  {
   "cell_type": "code",
   "execution_count": 10,
   "metadata": {},
   "outputs": [
    {
     "data": {
      "text/html": [
       "<div>\n",
       "<style scoped>\n",
       "    .dataframe tbody tr th:only-of-type {\n",
       "        vertical-align: middle;\n",
       "    }\n",
       "\n",
       "    .dataframe tbody tr th {\n",
       "        vertical-align: top;\n",
       "    }\n",
       "\n",
       "    .dataframe thead th {\n",
       "        text-align: right;\n",
       "    }\n",
       "</style>\n",
       "<table border=\"1\" class=\"dataframe\">\n",
       "  <thead>\n",
       "    <tr style=\"text-align: right;\">\n",
       "      <th></th>\n",
       "      <th>symbol</th>\n",
       "      <th>date</th>\n",
       "      <th>eps_est</th>\n",
       "      <th>eps</th>\n",
       "      <th>earnings_start</th>\n",
       "      <th>earnings_end</th>\n",
       "    </tr>\n",
       "  </thead>\n",
       "  <tbody>\n",
       "    <tr>\n",
       "      <th>160388</th>\n",
       "      <td>ZM</td>\n",
       "      <td>2019-06-06</td>\n",
       "      <td>0.005</td>\n",
       "      <td>0.03</td>\n",
       "      <td>2019-03-19</td>\n",
       "      <td>2019-06-05</td>\n",
       "    </tr>\n",
       "    <tr>\n",
       "      <th>160389</th>\n",
       "      <td>ZM</td>\n",
       "      <td>2019-09-05</td>\n",
       "      <td>0.013</td>\n",
       "      <td>0.08</td>\n",
       "      <td>2019-06-18</td>\n",
       "      <td>2019-09-04</td>\n",
       "    </tr>\n",
       "    <tr>\n",
       "      <th>160390</th>\n",
       "      <td>ZM</td>\n",
       "      <td>2019-12-05</td>\n",
       "      <td>0.028</td>\n",
       "      <td>0.09</td>\n",
       "      <td>2019-09-17</td>\n",
       "      <td>2019-12-04</td>\n",
       "    </tr>\n",
       "    <tr>\n",
       "      <th>160391</th>\n",
       "      <td>ZM</td>\n",
       "      <td>2020-03-04</td>\n",
       "      <td>0.071</td>\n",
       "      <td>0.15</td>\n",
       "      <td>2019-12-16</td>\n",
       "      <td>2020-03-03</td>\n",
       "    </tr>\n",
       "    <tr>\n",
       "      <th>160392</th>\n",
       "      <td>ZM</td>\n",
       "      <td>2020-06-02</td>\n",
       "      <td>0.092</td>\n",
       "      <td>0.20</td>\n",
       "      <td>2020-03-13</td>\n",
       "      <td>2020-06-01</td>\n",
       "    </tr>\n",
       "  </tbody>\n",
       "</table>\n",
       "</div>"
      ],
      "text/plain": [
       "       symbol       date  eps_est   eps earnings_start earnings_end\n",
       "160388     ZM 2019-06-06    0.005  0.03     2019-03-19   2019-06-05\n",
       "160389     ZM 2019-09-05    0.013  0.08     2019-06-18   2019-09-04\n",
       "160390     ZM 2019-12-05    0.028  0.09     2019-09-17   2019-12-04\n",
       "160391     ZM 2020-03-04    0.071  0.15     2019-12-16   2020-03-03\n",
       "160392     ZM 2020-06-02    0.092  0.20     2020-03-13   2020-06-01"
      ]
     },
     "execution_count": 10,
     "metadata": {},
     "output_type": "execute_result"
    }
   ],
   "source": [
    "earnings_sep = dict(tuple(earnings_df.groupby('symbol')))\n",
    "delete_dict = []\n",
    "for symbol in earnings_sep:\n",
    "    try:\n",
    "        stocks_sep[symbol]\n",
    "    except:\n",
    "        delete_dict.append(symbol)\n",
    "for symbol in delete_dict:\n",
    "    del earnings_sep[symbol]\n",
    "symbol2 = earnings_sep['ZM']\n",
    "symbol2.head()"
   ]
  },
  {
   "cell_type": "markdown",
   "metadata": {},
   "source": [
    "We'll now iterate through our earnings and generate input period and output percent increases for our RNN.\n",
    "\n",
    "_Note: this is pretty slow and could probably be improved with .apply() or with vectorization._"
   ]
  },
  {
   "cell_type": "code",
   "execution_count": 12,
   "metadata": {},
   "outputs": [
    {
     "data": {
      "text/plain": [
       "'stocks processed: 5108/5108'"
      ]
     },
     "metadata": {},
     "output_type": "display_data"
    }
   ],
   "source": [
    "def normalize_stock_data(df):\n",
    "    # normalize all stock prices\n",
    "    arr = np.array(df.to_numpy())\n",
    "    #stock_high = np.max(arr)\n",
    "    #arr = arr / stock_high\n",
    "    # put most recent dates first\n",
    "    arr = np.flip(arr, axis=0)\n",
    "    # pad bottom of array with zeros so all are of shape (57, 4)\n",
    "    num_rows = arr.shape[0]\n",
    "    arr = np.pad(arr, ((0, 57-num_rows), (0,0)), mode='constant', constant_values = 0)\n",
    "    return arr\n",
    "\n",
    "stocks_cnt = 0\n",
    "stocks_total_cnt = len(earnings_sep)\n",
    "input_data = []\n",
    "output_data = []\n",
    "#earnings_sep_test = {k: earnings_sep[k] for k in list(earnings_sep)[:100]}\n",
    "for symbol in earnings_sep:\n",
    "    curr_stock = stocks_sep[symbol].copy()\n",
    "    stocks_cnt += 1\n",
    "    if stocks_cnt % 100 == 0 or stocks_cnt == stocks_total_cnt:\n",
    "        clear_output(wait=True)\n",
    "        display('stocks processed: '+str(stocks_cnt)+'/'+str(stocks_total_cnt))\n",
    "    for earnings_row in earnings_sep[symbol].itertuples():\n",
    "        # compute input data\n",
    "        stock_period_data = curr_stock[(curr_stock.date >= earnings_row.earnings_start) & (curr_stock.date <= earnings_row.earnings_end)]\n",
    "        if not stock_period_data.empty:\n",
    "            stock_period_data.drop(['symbol', 'date', 'volume', 'open', 'high', 'low', 'close_adjusted'], axis=1, errors='ignore', inplace=True)\n",
    "            stock_period_data = normalize_stock_data(stock_period_data)\n",
    "\n",
    "            # compute output data\n",
    "            earnings_prev_high = curr_stock[curr_stock.date == earnings_row.date].high.to_numpy()\n",
    "            earnings_next_open = curr_stock[curr_stock.date == earnings_row.date + BDay(1)].open.to_numpy()\n",
    "            percent_change = (earnings_next_open - earnings_prev_high) / earnings_prev_high\n",
    "            \n",
    "            if percent_change and -20 <= percent_change <= 20:\n",
    "                # convert from array to float\n",
    "                percent_change = percent_change[0]\n",
    "                \n",
    "                # store data\n",
    "                input_data.append(stock_period_data)\n",
    "                output_data.append(percent_change)"
   ]
  },
  {
   "cell_type": "markdown",
   "metadata": {},
   "source": [
    "Next we'll shuffle our data and separate it into training (64%), dev (16%) and test (20%) sets."
   ]
  },
  {
   "cell_type": "code",
   "execution_count": 13,
   "metadata": {},
   "outputs": [
    {
     "name": "stdout",
     "output_type": "stream",
     "text": [
      "[0.220798 0.779202]\n"
     ]
    }
   ],
   "source": [
    "def get_breakpoint(x, percent):\n",
    "    return int(np.floor(len(x) * percent))\n",
    "\n",
    "'''\n",
    "def categorize_output(y):\n",
    "    if y > 0.1:\n",
    "        return np.array([1, 0, 0, 0, 0])\n",
    "    if y >= 0.05:\n",
    "        return np.array([0, 1, 0, 0, 0])\n",
    "    if y >= 0:\n",
    "        return np.array([0, 0, 1, 0, 0])\n",
    "    if y >= -0.05:\n",
    "        return np.array([0, 0, 0, 1, 0])\n",
    "    else:\n",
    "        return np.array([0, 0, 0, 0, 1])\n",
    "'''\n",
    "def categorize_output(y):\n",
    "    if y >= 0:\n",
    "        return np.array([1, 0])\n",
    "    return np.array([0, 1])\n",
    "\n",
    "cnt = np.array([0,0])\n",
    "x, y = shuffle(input_data, output_data)\n",
    "for i in range(len(y)):\n",
    "    one_hot = categorize_output(y[i])\n",
    "    y[i] = one_hot\n",
    "    cnt += one_hot\n",
    "print(cnt/len(y))\n",
    "x = np.array(x)\n",
    "y = np.array(y)\n",
    "x = x.reshape(len(x), x.shape[1], 1)\n",
    "y = y.reshape(len(y), 2)\n",
    "x = np.float32(x)\n",
    "\n",
    "breakpoint_1 = get_breakpoint(x, 0.64)\n",
    "breakpoint_2 = get_breakpoint(x, 0.8)\n",
    "\n",
    "x_train = x[:breakpoint_1]\n",
    "y_train = y[:breakpoint_1]\n",
    "x_dev = x[breakpoint_1+1:breakpoint_2]\n",
    "y_dev = y[breakpoint_1+1:breakpoint_2]\n",
    "x_test = x[breakpoint_2+1:]\n",
    "y_test = y[breakpoint_2+1:]"
   ]
  },
  {
   "cell_type": "markdown",
   "metadata": {},
   "source": [
    "## 3. Constructing the NN Model\n",
    "We'll now construct our neural network model:"
   ]
  },
  {
   "cell_type": "code",
   "execution_count": 29,
   "metadata": {},
   "outputs": [],
   "source": [
    "model = tf.keras.models.Sequential([\n",
    "    #tf.keras.layers.Conv2D(32, (2,2), padding='same', activation=tf.nn.relu, input_shape=(57, 1, 1)),\n",
    "    #tf.keras.layers.Conv2D(64, (2,2), padding='same', activation=tf.nn.relu),\n",
    "    tf.keras.layers.Conv1D(64, 2, activation=tf.nn.relu, input_shape=(57,1), kernel_initializer=tf.keras.initializers.GlorotNormal(seed=None)),\n",
    "    #tf.keras.layers.LSTM(32, return_sequences=True),\n",
    "    tf.keras.layers.Dropout(0.5),\n",
    "    #tf.keras.layers.LSTM(32, return_sequences=True),\n",
    "    tf.keras.layers.Conv1D(32, 2, activation=tf.nn.relu, input_shape=(57,1), kernel_initializer=tf.keras.initializers.GlorotNormal(seed=None)),\n",
    "    tf.keras.layers.Dropout(0.5),\n",
    "    tf.keras.layers.Flatten(),\n",
    "    tf.keras.layers.Dense(512, activation=tf.nn.relu, kernel_initializer=tf.keras.initializers.GlorotNormal(seed=None)),\n",
    "    tf.keras.layers.Dense(2, activation=tf.nn.softmax)\n",
    "])\n",
    "\n",
    "#optimizer = tf.keras.optimizers.SGD(lr=1e-5, momentum=0.5)\n",
    "optimizer = tf.keras.optimizers.Adam(learning_rate=0.01)\n",
    "#loss = tf.keras.losses.Huber()\n",
    "#loss = tf.keras.losses.CategoricalCrossentropy(from_logits=True)\n",
    "loss = tf.keras.losses.BinaryCrossentropy(from_logits=True, label_smoothing=0.2)\n",
    "model.compile(loss=loss,\n",
    "              optimizer=optimizer,\n",
    "              metrics=[\"accuracy\"])"
   ]
  },
  {
   "cell_type": "markdown",
   "metadata": {},
   "source": [
    "Now we fit the model with our training data:"
   ]
  },
  {
   "cell_type": "code",
   "execution_count": 28,
   "metadata": {},
   "outputs": [
    {
     "name": "stdout",
     "output_type": "stream",
     "text": [
      "Train on 48681 samples\n",
      "Epoch 1/5\n",
      "48681/48681 [==============================] - 1s 23us/sample - loss: 0.6586 - accuracy: 0.7773\n",
      "Epoch 2/5\n",
      "48681/48681 [==============================] - 1s 11us/sample - loss: 0.6419 - accuracy: 0.7793\n",
      "Epoch 3/5\n",
      "48681/48681 [==============================] - 1s 11us/sample - loss: 0.6416 - accuracy: 0.7793\n",
      "Epoch 4/5\n",
      "48681/48681 [==============================] - 1s 11us/sample - loss: 0.6416 - accuracy: 0.7793\n",
      "Epoch 5/5\n",
      "48681/48681 [==============================] - 1s 11us/sample - loss: 0.6415 - accuracy: 0.7793\n"
     ]
    },
    {
     "data": {
      "text/plain": [
       "<tensorflow.python.keras.callbacks.History at 0x1caca42ed08>"
      ]
     },
     "execution_count": 28,
     "metadata": {},
     "output_type": "execute_result"
    }
   ],
   "source": [
    "model.fit(x_train, y_train, batch_size=256, epochs=5, verbose=1)"
   ]
  },
  {
   "cell_type": "code",
   "execution_count": 18,
   "metadata": {},
   "outputs": [
    {
     "name": "stdout",
     "output_type": "stream",
     "text": [
      "12170/12170 [==============================] - 1s 51us/sample - loss: 0.6832 - accuracy: 0.7800\n",
      "Accuracy on test dataset: 0.7799507\n"
     ]
    }
   ],
   "source": [
    "test_loss, test_accuracy = model.evaluate(x_dev, y_dev)\n",
    "print('Accuracy on test dataset:', test_accuracy)"
   ]
  },
  {
   "cell_type": "code",
   "execution_count": 19,
   "metadata": {},
   "outputs": [
    {
     "data": {
      "text/plain": [
       "array([[1.7482193e-07, 9.9999988e-01],\n",
       "       [1.7482193e-07, 9.9999988e-01],\n",
       "       [1.7482193e-07, 9.9999988e-01],\n",
       "       ...,\n",
       "       [1.7482193e-07, 9.9999988e-01],\n",
       "       [1.7482193e-07, 9.9999988e-01],\n",
       "       [1.7482193e-07, 9.9999988e-01]], dtype=float32)"
      ]
     },
     "execution_count": 19,
     "metadata": {},
     "output_type": "execute_result"
    }
   ],
   "source": [
    "model.predict(x_dev)"
   ]
  },
  {
   "cell_type": "markdown",
   "metadata": {},
   "source": [
    "The model simply predicts the most common label (that is, the stock decreases) for all test cases. Since the test data decreases 68% of the time, the model claims 68% accuracy, but hasn't learned anything. Next attempt: LSTM with windows."
   ]
  }
 ],
 "metadata": {
  "kernelspec": {
   "display_name": "stocks",
   "language": "python",
   "name": "stocks"
  },
  "language_info": {
   "codemirror_mode": {
    "name": "ipython",
    "version": 3
   },
   "file_extension": ".py",
   "mimetype": "text/x-python",
   "name": "python",
   "nbconvert_exporter": "python",
   "pygments_lexer": "ipython3",
   "version": "3.7.9"
  }
 },
 "nbformat": 4,
 "nbformat_minor": 4
}
