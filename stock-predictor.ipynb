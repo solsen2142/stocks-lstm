{
 "cells": [
  {
   "cell_type": "markdown",
   "metadata": {},
   "source": [
    "# Predicting Stock Prices from Expected Earnings\n",
    "## 1. Overview\n",
    "\n",
    "This project uses a Long Short-Term Memory (LSTM) network implemented in TensorFlow to predict stock prices. It takes as input the daily historical stock prices for a given stock, converts the data to windows, and outputs predicted stock prices for the length of the window.\n",
    "## 2. Collecting and Cleaning Data\n",
    "Data will be taken from the last 8 years' historical stock prices. It is housed in stocks_latest, which you can download on your own at <a href=\"https://www.kaggle.com/tsaustin/us-historical-stock-prices-with-earnings-data\">this link</a>."
   ]
  },
  {
   "cell_type": "markdown",
   "metadata": {},
   "source": [
    "First, let's import the packages we'll be using."
   ]
  },
  {
   "cell_type": "code",
   "execution_count": 47,
   "metadata": {},
   "outputs": [],
   "source": [
    "import os\n",
    "import datetime\n",
    "\n",
    "import matplotlib as mpl\n",
    "import matplotlib.pyplot as plt\n",
    "import numpy as np\n",
    "import pandas as pd\n",
    "from pandas.tseries.offsets import BDay\n",
    "import seaborn as sns\n",
    "import tensorflow as tf\n",
    "from tensorflow.python.client import device_lib\n",
    "from IPython.display import display, clear_output\n",
    "from sklearn.utils import shuffle\n",
    "from sklearn.model_selection import train_test_split"
   ]
  },
  {
   "cell_type": "markdown",
   "metadata": {},
   "source": [
    "Make sure we're running tensorflow on GPU (if applicable):"
   ]
  },
  {
   "cell_type": "code",
   "execution_count": 48,
   "metadata": {},
   "outputs": [
    {
     "name": "stdout",
     "output_type": "stream",
     "text": [
      "Device mapping: no known devices.\n"
     ]
    }
   ],
   "source": [
    "sess = tf.compat.v1.Session(config=tf.compat.v1.ConfigProto(log_device_placement=True))"
   ]
  },
  {
   "cell_type": "markdown",
   "metadata": {},
   "source": [
    "Next, we'll extract our data as pandas dataframes."
   ]
  },
  {
   "cell_type": "code",
   "execution_count": 49,
   "metadata": {},
   "outputs": [],
   "source": [
    "stocks_data_path = \"./datasets/stock_prices_latest.csv\"\n",
    "\n",
    "stocks_df_init = pd.read_csv(stocks_data_path)"
   ]
  },
  {
   "cell_type": "markdown",
   "metadata": {},
   "source": [
    "Let's see what data our stocks file contains:"
   ]
  },
  {
   "cell_type": "code",
   "execution_count": 50,
   "metadata": {},
   "outputs": [
    {
     "data": {
      "text/html": [
       "<div>\n",
       "<style scoped>\n",
       "    .dataframe tbody tr th:only-of-type {\n",
       "        vertical-align: middle;\n",
       "    }\n",
       "\n",
       "    .dataframe tbody tr th {\n",
       "        vertical-align: top;\n",
       "    }\n",
       "\n",
       "    .dataframe thead th {\n",
       "        text-align: right;\n",
       "    }\n",
       "</style>\n",
       "<table border=\"1\" class=\"dataframe\">\n",
       "  <thead>\n",
       "    <tr style=\"text-align: right;\">\n",
       "      <th></th>\n",
       "      <th>symbol</th>\n",
       "      <th>date</th>\n",
       "      <th>open</th>\n",
       "      <th>high</th>\n",
       "      <th>low</th>\n",
       "      <th>close</th>\n",
       "      <th>close_adjusted</th>\n",
       "      <th>volume</th>\n",
       "      <th>split_coefficient</th>\n",
       "    </tr>\n",
       "  </thead>\n",
       "  <tbody>\n",
       "    <tr>\n",
       "      <th>0</th>\n",
       "      <td>MSFT</td>\n",
       "      <td>2016-05-16</td>\n",
       "      <td>50.80</td>\n",
       "      <td>51.96</td>\n",
       "      <td>50.75</td>\n",
       "      <td>51.83</td>\n",
       "      <td>49.7013</td>\n",
       "      <td>20032017</td>\n",
       "      <td>1.0</td>\n",
       "    </tr>\n",
       "    <tr>\n",
       "      <th>1</th>\n",
       "      <td>MSFT</td>\n",
       "      <td>2002-01-16</td>\n",
       "      <td>68.85</td>\n",
       "      <td>69.84</td>\n",
       "      <td>67.85</td>\n",
       "      <td>67.87</td>\n",
       "      <td>22.5902</td>\n",
       "      <td>30977700</td>\n",
       "      <td>1.0</td>\n",
       "    </tr>\n",
       "    <tr>\n",
       "      <th>2</th>\n",
       "      <td>MSFT</td>\n",
       "      <td>2001-09-18</td>\n",
       "      <td>53.41</td>\n",
       "      <td>55.00</td>\n",
       "      <td>53.17</td>\n",
       "      <td>54.32</td>\n",
       "      <td>18.0802</td>\n",
       "      <td>41591300</td>\n",
       "      <td>1.0</td>\n",
       "    </tr>\n",
       "    <tr>\n",
       "      <th>3</th>\n",
       "      <td>MSFT</td>\n",
       "      <td>2007-10-26</td>\n",
       "      <td>36.01</td>\n",
       "      <td>36.03</td>\n",
       "      <td>34.56</td>\n",
       "      <td>35.03</td>\n",
       "      <td>27.2232</td>\n",
       "      <td>288121200</td>\n",
       "      <td>1.0</td>\n",
       "    </tr>\n",
       "    <tr>\n",
       "      <th>4</th>\n",
       "      <td>MSFT</td>\n",
       "      <td>2014-06-27</td>\n",
       "      <td>41.61</td>\n",
       "      <td>42.29</td>\n",
       "      <td>41.51</td>\n",
       "      <td>42.25</td>\n",
       "      <td>38.6773</td>\n",
       "      <td>74640000</td>\n",
       "      <td>1.0</td>\n",
       "    </tr>\n",
       "  </tbody>\n",
       "</table>\n",
       "</div>"
      ],
      "text/plain": [
       "  symbol        date   open   high    low  close  close_adjusted     volume  \\\n",
       "0   MSFT  2016-05-16  50.80  51.96  50.75  51.83         49.7013   20032017   \n",
       "1   MSFT  2002-01-16  68.85  69.84  67.85  67.87         22.5902   30977700   \n",
       "2   MSFT  2001-09-18  53.41  55.00  53.17  54.32         18.0802   41591300   \n",
       "3   MSFT  2007-10-26  36.01  36.03  34.56  35.03         27.2232  288121200   \n",
       "4   MSFT  2014-06-27  41.61  42.29  41.51  42.25         38.6773   74640000   \n",
       "\n",
       "   split_coefficient  \n",
       "0                1.0  \n",
       "1                1.0  \n",
       "2                1.0  \n",
       "3                1.0  \n",
       "4                1.0  "
      ]
     },
     "execution_count": 50,
     "metadata": {},
     "output_type": "execute_result"
    }
   ],
   "source": [
    "stocks_df = stocks_df_init.copy()\n",
    "stocks_df.head()"
   ]
  },
  {
   "cell_type": "markdown",
   "metadata": {},
   "source": [
    "We'll do the following to clean up the stocks dataset:\n",
    "1. Remove split_coefficient, close, open, high, and low columns\n",
    "2. Remove all data from before 2015\n",
    "3. Convert our dates to seconds\n",
    "4. Rename \"close_adjusted\" to \"close\"\n",
    "5. Sort data by symbol, then by date"
   ]
  },
  {
   "cell_type": "code",
   "execution_count": 51,
   "metadata": {},
   "outputs": [
    {
     "data": {
      "text/html": [
       "<div>\n",
       "<style scoped>\n",
       "    .dataframe tbody tr th:only-of-type {\n",
       "        vertical-align: middle;\n",
       "    }\n",
       "\n",
       "    .dataframe tbody tr th {\n",
       "        vertical-align: top;\n",
       "    }\n",
       "\n",
       "    .dataframe thead th {\n",
       "        text-align: right;\n",
       "    }\n",
       "</style>\n",
       "<table border=\"1\" class=\"dataframe\">\n",
       "  <thead>\n",
       "    <tr style=\"text-align: right;\">\n",
       "      <th></th>\n",
       "      <th>symbol</th>\n",
       "      <th>time_seconds</th>\n",
       "      <th>close</th>\n",
       "      <th>volume</th>\n",
       "    </tr>\n",
       "  </thead>\n",
       "  <tbody>\n",
       "    <tr>\n",
       "      <th>8237673</th>\n",
       "      <td>A</td>\n",
       "      <td>1.420178e+09</td>\n",
       "      <td>39.3484</td>\n",
       "      <td>1530798</td>\n",
       "    </tr>\n",
       "    <tr>\n",
       "      <th>8236049</th>\n",
       "      <td>A</td>\n",
       "      <td>1.420438e+09</td>\n",
       "      <td>38.6111</td>\n",
       "      <td>2042240</td>\n",
       "    </tr>\n",
       "    <tr>\n",
       "      <th>8234683</th>\n",
       "      <td>A</td>\n",
       "      <td>1.420524e+09</td>\n",
       "      <td>38.0096</td>\n",
       "      <td>2084562</td>\n",
       "    </tr>\n",
       "    <tr>\n",
       "      <th>8237067</th>\n",
       "      <td>A</td>\n",
       "      <td>1.420610e+09</td>\n",
       "      <td>38.5141</td>\n",
       "      <td>3359660</td>\n",
       "    </tr>\n",
       "    <tr>\n",
       "      <th>8238420</th>\n",
       "      <td>A</td>\n",
       "      <td>1.420697e+09</td>\n",
       "      <td>39.6686</td>\n",
       "      <td>2116341</td>\n",
       "    </tr>\n",
       "  </tbody>\n",
       "</table>\n",
       "</div>"
      ],
      "text/plain": [
       "        symbol  time_seconds    close   volume\n",
       "8237673      A  1.420178e+09  39.3484  1530798\n",
       "8236049      A  1.420438e+09  38.6111  2042240\n",
       "8234683      A  1.420524e+09  38.0096  2084562\n",
       "8237067      A  1.420610e+09  38.5141  3359660\n",
       "8238420      A  1.420697e+09  39.6686  2116341"
      ]
     },
     "execution_count": 51,
     "metadata": {},
     "output_type": "execute_result"
    }
   ],
   "source": [
    "#Remove split_coefficient and close\n",
    "stocks_df.drop(['split_coefficient','close', 'open', 'high', 'low'], axis=1, errors='ignore', inplace=True)\n",
    "\n",
    "#Remove stock data from before 2015\n",
    "stocks_df['date'] = pd.to_datetime(stocks_df.date)\n",
    "stocks_df = stocks_df[(stocks_df['date'].dt.year >= 2015)]\n",
    "\n",
    "#Convert dates to seconds\n",
    "stocks_df['date'] = stocks_df['date'].map(datetime.datetime.timestamp)\n",
    "stocks_df.rename(columns={'date':'time_seconds'}, inplace=True)\n",
    "\n",
    "#Rename 'close_adjusted' to 'close'\n",
    "stocks_df.rename(columns={'close_adjusted':'close'}, inplace=True)\n",
    "                                                                                                          \n",
    "#Sort data by symbol, then date\n",
    "stocks_df.sort_values(by=['symbol','time_seconds'], inplace=True)\n",
    "\n",
    "stocks_df.head()"
   ]
  },
  {
   "cell_type": "markdown",
   "metadata": {},
   "source": [
    "We'll be feeding our NN the stock data for individual stocks. First, we'll group the stock data by symbol and store in a dict of DataFrames."
   ]
  },
  {
   "cell_type": "code",
   "execution_count": 52,
   "metadata": {},
   "outputs": [],
   "source": [
    "stocks_sep = dict(tuple(stocks_df.groupby('symbol')))\n",
    "symbol1 = stocks_sep['ZM']"
   ]
  },
  {
   "cell_type": "markdown",
   "metadata": {},
   "source": [
    "## 3. Choosing Focus Stock\n",
    "\n",
    "Let's choose a particular stock to focus on. In this example, I choose Apple (with ticker \"AAPL\"). We drop the 'symbol' and 'time_seconds' columns as they are no longer relevant to the neural network (the data is already ordered by date). Feel free to change the focus stock ticker and run the cells afterwards to make different stock predictions."
   ]
  },
  {
   "cell_type": "code",
   "execution_count": 89,
   "metadata": {},
   "outputs": [
    {
     "data": {
      "text/html": [
       "<div>\n",
       "<style scoped>\n",
       "    .dataframe tbody tr th:only-of-type {\n",
       "        vertical-align: middle;\n",
       "    }\n",
       "\n",
       "    .dataframe tbody tr th {\n",
       "        vertical-align: top;\n",
       "    }\n",
       "\n",
       "    .dataframe thead th {\n",
       "        text-align: right;\n",
       "    }\n",
       "</style>\n",
       "<table border=\"1\" class=\"dataframe\">\n",
       "  <thead>\n",
       "    <tr style=\"text-align: right;\">\n",
       "      <th></th>\n",
       "      <th>close</th>\n",
       "      <th>volume</th>\n",
       "    </tr>\n",
       "  </thead>\n",
       "  <tbody>\n",
       "    <tr>\n",
       "      <th>7162</th>\n",
       "      <td>0.037118</td>\n",
       "      <td>0.158320</td>\n",
       "    </tr>\n",
       "    <tr>\n",
       "      <th>4827</th>\n",
       "      <td>0.030145</td>\n",
       "      <td>0.191701</td>\n",
       "    </tr>\n",
       "    <tr>\n",
       "      <th>7200</th>\n",
       "      <td>0.030168</td>\n",
       "      <td>0.196254</td>\n",
       "    </tr>\n",
       "    <tr>\n",
       "      <th>7351</th>\n",
       "      <td>0.033541</td>\n",
       "      <td>0.118862</td>\n",
       "    </tr>\n",
       "    <tr>\n",
       "      <th>8618</th>\n",
       "      <td>0.042914</td>\n",
       "      <td>0.176877</td>\n",
       "    </tr>\n",
       "  </tbody>\n",
       "</table>\n",
       "</div>"
      ],
      "text/plain": [
       "         close    volume\n",
       "7162  0.037118  0.158320\n",
       "4827  0.030145  0.191701\n",
       "7200  0.030168  0.196254\n",
       "7351  0.033541  0.118862\n",
       "8618  0.042914  0.176877"
      ]
     },
     "execution_count": 89,
     "metadata": {},
     "output_type": "execute_result"
    }
   ],
   "source": [
    "focus_stock = 'AAPL'\n",
    "focus_stock_df = stocks_sep[focus_stock]\n",
    "focus_stock_df.drop(['symbol', 'time_seconds'], axis=1, errors='ignore', inplace=True)\n",
    "focus_stock_df.head()"
   ]
  },
  {
   "cell_type": "markdown",
   "metadata": {},
   "source": [
    "## 4. Normalization\n",
    "\n",
    "We'd like to use both the closing price and the volume as inputs to our neural net. However, the large size of the volume compared to the closing price will bias the NN, so we normalize our data and force it into the range [0,1]."
   ]
  },
  {
   "cell_type": "code",
   "execution_count": 90,
   "metadata": {},
   "outputs": [
    {
     "data": {
      "text/html": [
       "<div>\n",
       "<style scoped>\n",
       "    .dataframe tbody tr th:only-of-type {\n",
       "        vertical-align: middle;\n",
       "    }\n",
       "\n",
       "    .dataframe tbody tr th {\n",
       "        vertical-align: top;\n",
       "    }\n",
       "\n",
       "    .dataframe thead th {\n",
       "        text-align: right;\n",
       "    }\n",
       "</style>\n",
       "<table border=\"1\" class=\"dataframe\">\n",
       "  <thead>\n",
       "    <tr style=\"text-align: right;\">\n",
       "      <th></th>\n",
       "      <th>close</th>\n",
       "      <th>volume</th>\n",
       "    </tr>\n",
       "  </thead>\n",
       "  <tbody>\n",
       "    <tr>\n",
       "      <th>7162</th>\n",
       "      <td>0.037118</td>\n",
       "      <td>0.158320</td>\n",
       "    </tr>\n",
       "    <tr>\n",
       "      <th>4827</th>\n",
       "      <td>0.030145</td>\n",
       "      <td>0.191701</td>\n",
       "    </tr>\n",
       "    <tr>\n",
       "      <th>7200</th>\n",
       "      <td>0.030168</td>\n",
       "      <td>0.196254</td>\n",
       "    </tr>\n",
       "    <tr>\n",
       "      <th>7351</th>\n",
       "      <td>0.033541</td>\n",
       "      <td>0.118862</td>\n",
       "    </tr>\n",
       "    <tr>\n",
       "      <th>8618</th>\n",
       "      <td>0.042914</td>\n",
       "      <td>0.176877</td>\n",
       "    </tr>\n",
       "  </tbody>\n",
       "</table>\n",
       "</div>"
      ],
      "text/plain": [
       "         close    volume\n",
       "7162  0.037118  0.158320\n",
       "4827  0.030145  0.191701\n",
       "7200  0.030168  0.196254\n",
       "7351  0.033541  0.118862\n",
       "8618  0.042914  0.176877"
      ]
     },
     "execution_count": 90,
     "metadata": {},
     "output_type": "execute_result"
    }
   ],
   "source": [
    "def normalize_column(df, column_name):\n",
    "    x = df[column_name]\n",
    "    min = x.min()\n",
    "    max = x.max()\n",
    "    return (x - min) / (max - min)\n",
    "\n",
    "focus_stock_df['close'] = normalize_column(focus_stock_df, 'close')\n",
    "focus_stock_df['volume'] = normalize_column(focus_stock_df, 'volume')\n",
    "focus_stock_df.head()"
   ]
  },
  {
   "cell_type": "markdown",
   "metadata": {},
   "source": [
    "## 5. Splitting Data into Train/Val/Test Sets\n",
    "\n",
    "Next we'll separate our data into training (80%) and test (20%) sets. We'll further separate the training set into training (64%) and validation (16%) sets (ie, an 80/20 split over the training set)."
   ]
  },
  {
   "cell_type": "code",
   "execution_count": 91,
   "metadata": {},
   "outputs": [],
   "source": [
    "def get_breakpoint(n, percent):\n",
    "    return int(np.floor(n * percent))\n",
    "\n",
    "n = len(focus_stock_df)\n",
    "breakpoint_1 = get_breakpoint(n, 0.64)\n",
    "breakpoint_2 = get_breakpoint(n, 0.8)\n",
    "\n",
    "train_df = focus_stock_df[:breakpoint_1]\n",
    "val_df = focus_stock_df[breakpoint_1:breakpoint_2]\n",
    "test_df = focus_stock_df[breakpoint_2:]"
   ]
  },
  {
   "cell_type": "markdown",
   "metadata": {},
   "source": [
    "## 6. Generating Data Windows\n",
    "\n",
    "We would like to feed our neural network \"windows\" of time series data to train on. A window is comprised of some number of input points and an output point. To do this, we create a WindowGenerator class, as suggested <a href=\"https://www.tensorflow.org/tutorials/structured_data/time_series\">here</a>. We also define a split_window method to split a window into input and output, a plot method to aid in visualization, and a make_dataset method to convert a DataFrame into a tf.data.Dataset."
   ]
  },
  {
   "cell_type": "code",
   "execution_count": 114,
   "metadata": {},
   "outputs": [],
   "source": [
    "class WindowGenerator():\n",
    "    def __init__(self, input_width, label_width, shift,\n",
    "               train_df=train_df, val_df=val_df, test_df=test_df,\n",
    "               label_columns=None):\n",
    "        # Store the raw data.\n",
    "        self.train_df = train_df\n",
    "        self.val_df = val_df\n",
    "        self.test_df = test_df\n",
    "\n",
    "        # Work out the label column indices.\n",
    "        self.label_columns = label_columns\n",
    "        if label_columns is not None:\n",
    "            self.label_columns_indices = {name: i for i, name in\n",
    "                                        enumerate(label_columns)}\n",
    "        self.column_indices = {name: i for i, name in\n",
    "                               enumerate(train_df.columns)}\n",
    "\n",
    "        # Work out the window parameters.\n",
    "        self.input_width = input_width\n",
    "        self.label_width = label_width\n",
    "        self.shift = shift\n",
    "\n",
    "        self.total_window_size = input_width + shift\n",
    "\n",
    "        self.input_slice = slice(0, input_width)\n",
    "        self.input_indices = np.arange(self.total_window_size)[self.input_slice]\n",
    "\n",
    "        self.label_start = self.total_window_size - self.label_width\n",
    "        self.labels_slice = slice(self.label_start, None)\n",
    "        self.label_indices = np.arange(self.total_window_size)[self.labels_slice]\n",
    "        \n",
    "        self.train = self.make_dataset(self.train_df)\n",
    "        self.val = self.make_dataset(self.val_df)\n",
    "        self.test = self.make_dataset(self.test_df)\n",
    "        \n",
    "        self.example = self.example()\n",
    "\n",
    "    def __repr__(self):\n",
    "        return '\\n'.join([\n",
    "            f'Total window size: {self.total_window_size}',\n",
    "            f'Input indices: {self.input_indices}',\n",
    "            f'Label indices: {self.label_indices}',\n",
    "            f'Label column name(s): {self.label_columns}'])\n",
    "\n",
    "    def split_window(self, features):\n",
    "        inputs = features[:, self.input_slice, :]\n",
    "        labels = features[:, self.labels_slice, :]\n",
    "        if self.label_columns is not None:\n",
    "            labels = tf.stack(\n",
    "                [labels[:, :, self.column_indices[name]] for name in self.label_columns],\n",
    "                axis=-1)\n",
    "        inputs.set_shape([None, self.input_width, None])\n",
    "        labels.set_shape([None, self.label_width, None])\n",
    "\n",
    "        return inputs, labels\n",
    "    \n",
    "    def plot(self, model=None, plot_col='close', max_subplots=3):\n",
    "        inputs, labels = self.example\n",
    "        plt.figure(figsize=(12, 8))\n",
    "        plot_col_index = self.column_indices[plot_col]\n",
    "        max_n = min(max_subplots, len(inputs))\n",
    "        for n in range(max_n):\n",
    "            plt.subplot(3, 1, n+1)\n",
    "            plt.ylabel(f'{plot_col} [normed]')\n",
    "            plt.plot(self.input_indices, inputs[n, :, plot_col_index],\n",
    "                     label='Inputs', marker='.', zorder=-10)\n",
    "            \n",
    "            if self.label_columns:\n",
    "                label_col_index = self.label_columns_indices.get(plot_col, None)\n",
    "            else:\n",
    "                label_col_index = plot_col_index\n",
    "\n",
    "            if label_col_index is None:\n",
    "                continue\n",
    "\n",
    "            plt.scatter(self.label_indices, labels[n, :, label_col_index],\n",
    "                        edgecolors='k', label='Labels', c='#2ca02c', s=64)\n",
    "            if model is not None:\n",
    "                predictions = model(inputs)\n",
    "                plt.scatter(self.label_indices, predictions[n, :, label_col_index],\n",
    "                          marker='X', edgecolors='k', label='Predictions',\n",
    "                          c='#ff7f0e', s=64)\n",
    "            if n == 0:\n",
    "                plt.legend()\n",
    "                \n",
    "        plt.xlabel('Time [h]')\n",
    "    \n",
    "    def make_dataset(self, data):\n",
    "        data = np.array(data, dtype=np.float32)\n",
    "        ds = tf.keras.preprocessing.timeseries_dataset_from_array(\n",
    "          data=data,\n",
    "          targets=None,\n",
    "          sequence_length=self.total_window_size,\n",
    "          sequence_stride=1,\n",
    "          shuffle=True,\n",
    "          batch_size=32,)\n",
    "\n",
    "        ds = ds.map(self.split_window)\n",
    "        return ds\n",
    "    \n",
    "    def example(self):\n",
    "        result = getattr(self, '_example', None)\n",
    "        if result is None:\n",
    "            result = next(iter(self.train))\n",
    "            self._example = result\n",
    "        return result"
   ]
  },
  {
   "cell_type": "markdown",
   "metadata": {},
   "source": [
    "## 7. Constructing and Fitting the NN Model\n",
    "We'll now construct and compile our neural network model using LSTM layers. Parameters to experiment with include number of neurons per LSTM layer, number of LSTM layers, dropout percentage, addition of dense layers after the dropout layer, and the learning rate of our Adam optimizer."
   ]
  },
  {
   "cell_type": "code",
   "execution_count": 164,
   "metadata": {},
   "outputs": [],
   "source": [
    "model = tf.keras.models.Sequential([\n",
    "    tf.keras.layers.LSTM(128, return_sequences=True),\n",
    "    tf.keras.layers.LSTM(128, return_sequences=True),\n",
    "    tf.keras.layers.Dropout(0.2),\n",
    "    tf.keras.layers.Dense(1, activation=tf.nn.relu)\n",
    "])\n",
    "\n",
    "loss = tf.losses.MeanSquaredError()\n",
    "optimizer = tf.keras.optimizers.Adam(learning_rate=0.01)\n",
    "metrics = tf.metrics.MeanAbsoluteError()\n",
    "\n",
    "model.compile(loss=loss,\n",
    "              optimizer=optimizer,\n",
    "              metrics=metrics)"
   ]
  },
  {
   "cell_type": "markdown",
   "metadata": {},
   "source": [
    "Now we create our windows based on an arbitrary window size. The width can be changed to study its effect on the model. Here, a width of 30 was chosen to represent one month of stock data."
   ]
  },
  {
   "cell_type": "code",
   "execution_count": 165,
   "metadata": {},
   "outputs": [],
   "source": [
    "WIDTH = 30\n",
    "\n",
    "window = WindowGenerator(\n",
    "    input_width=WIDTH, label_width=WIDTH, shift=1,\n",
    "    label_columns=['close'])"
   ]
  },
  {
   "cell_type": "markdown",
   "metadata": {},
   "source": [
    "Finally, we fit the model to our windowed data. Again, the number of epochs can be tweaked. We set an early stopping callback to stop the fitting process if our error stops decreasing."
   ]
  },
  {
   "cell_type": "code",
   "execution_count": 166,
   "metadata": {},
   "outputs": [
    {
     "name": "stdout",
     "output_type": "stream",
     "text": [
      "Epoch 1/50\n",
      "29/29 [==============================] - 1s 50ms/step - loss: 0.0279 - mean_absolute_error: 0.1085 - val_loss: 0.0108 - val_mean_absolute_error: 0.0877\n",
      "Epoch 2/50\n",
      "29/29 [==============================] - 1s 28ms/step - loss: 0.0021 - mean_absolute_error: 0.0306 - val_loss: 0.0038 - val_mean_absolute_error: 0.0329\n",
      "Epoch 3/50\n",
      "29/29 [==============================] - 1s 28ms/step - loss: 0.0011 - mean_absolute_error: 0.0202 - val_loss: 0.0023 - val_mean_absolute_error: 0.0255\n",
      "Epoch 4/50\n",
      "29/29 [==============================] - 1s 28ms/step - loss: 6.7260e-04 - mean_absolute_error: 0.0154 - val_loss: 0.0014 - val_mean_absolute_error: 0.0205\n",
      "Epoch 5/50\n",
      "29/29 [==============================] - 1s 28ms/step - loss: 4.6177e-04 - mean_absolute_error: 0.0130 - val_loss: 0.0011 - val_mean_absolute_error: 0.0179\n",
      "Epoch 6/50\n",
      "29/29 [==============================] - 1s 29ms/step - loss: 3.4951e-04 - mean_absolute_error: 0.0114 - val_loss: 8.0269e-04 - val_mean_absolute_error: 0.0157\n",
      "Epoch 7/50\n",
      "29/29 [==============================] - 1s 28ms/step - loss: 2.7956e-04 - mean_absolute_error: 0.0103 - val_loss: 6.2971e-04 - val_mean_absolute_error: 0.0139\n",
      "Epoch 8/50\n",
      "29/29 [==============================] - 1s 28ms/step - loss: 2.3834e-04 - mean_absolute_error: 0.0099 - val_loss: 5.3022e-04 - val_mean_absolute_error: 0.0132\n",
      "Epoch 9/50\n",
      "29/29 [==============================] - 1s 28ms/step - loss: 1.9000e-04 - mean_absolute_error: 0.0086 - val_loss: 4.0612e-04 - val_mean_absolute_error: 0.0114\n",
      "Epoch 10/50\n",
      "29/29 [==============================] - 1s 30ms/step - loss: 1.6480e-04 - mean_absolute_error: 0.0082 - val_loss: 3.2342e-04 - val_mean_absolute_error: 0.0103\n",
      "Epoch 11/50\n",
      "29/29 [==============================] - 1s 30ms/step - loss: 1.4167e-04 - mean_absolute_error: 0.0076 - val_loss: 2.7214e-04 - val_mean_absolute_error: 0.0097\n",
      "Epoch 12/50\n",
      "29/29 [==============================] - 1s 29ms/step - loss: 1.2691e-04 - mean_absolute_error: 0.0074 - val_loss: 2.3330e-04 - val_mean_absolute_error: 0.0093\n",
      "Epoch 13/50\n",
      "29/29 [==============================] - 1s 29ms/step - loss: 1.1262e-04 - mean_absolute_error: 0.0070 - val_loss: 2.0486e-04 - val_mean_absolute_error: 0.0089\n",
      "Epoch 14/50\n",
      "29/29 [==============================] - 1s 32ms/step - loss: 1.0653e-04 - mean_absolute_error: 0.0069 - val_loss: 1.8371e-04 - val_mean_absolute_error: 0.0087\n",
      "Epoch 15/50\n",
      "29/29 [==============================] - 1s 31ms/step - loss: 9.7828e-05 - mean_absolute_error: 0.0067 - val_loss: 1.5217e-04 - val_mean_absolute_error: 0.0082\n",
      "Epoch 16/50\n",
      "29/29 [==============================] - 1s 30ms/step - loss: 8.9860e-05 - mean_absolute_error: 0.0065 - val_loss: 1.3860e-04 - val_mean_absolute_error: 0.0079\n",
      "Epoch 17/50\n",
      "29/29 [==============================] - 1s 30ms/step - loss: 8.1554e-05 - mean_absolute_error: 0.0063 - val_loss: 1.2209e-04 - val_mean_absolute_error: 0.0079\n",
      "Epoch 18/50\n",
      "29/29 [==============================] - 1s 30ms/step - loss: 7.5586e-05 - mean_absolute_error: 0.0061 - val_loss: 1.0911e-04 - val_mean_absolute_error: 0.0076\n",
      "Epoch 19/50\n",
      "29/29 [==============================] - 1s 28ms/step - loss: 7.2537e-05 - mean_absolute_error: 0.0061 - val_loss: 1.2219e-04 - val_mean_absolute_error: 0.0080\n",
      "Epoch 20/50\n",
      "29/29 [==============================] - 1s 28ms/step - loss: 7.1215e-05 - mean_absolute_error: 0.0061 - val_loss: 9.1469e-05 - val_mean_absolute_error: 0.0068\n",
      "Epoch 21/50\n",
      "29/29 [==============================] - 1s 28ms/step - loss: 6.2121e-05 - mean_absolute_error: 0.0056 - val_loss: 8.7608e-05 - val_mean_absolute_error: 0.0067\n",
      "Epoch 22/50\n",
      "29/29 [==============================] - 1s 28ms/step - loss: 5.9837e-05 - mean_absolute_error: 0.0055 - val_loss: 8.3204e-05 - val_mean_absolute_error: 0.0067\n",
      "Epoch 23/50\n",
      "29/29 [==============================] - 1s 28ms/step - loss: 5.6266e-05 - mean_absolute_error: 0.0054 - val_loss: 8.4100e-05 - val_mean_absolute_error: 0.0068\n",
      "Epoch 24/50\n",
      "29/29 [==============================] - 1s 28ms/step - loss: 5.7432e-05 - mean_absolute_error: 0.0054 - val_loss: 9.5289e-05 - val_mean_absolute_error: 0.0069\n"
     ]
    },
    {
     "data": {
      "text/plain": [
       "<tensorflow.python.keras.callbacks.History at 0x1ac6e1a7948>"
      ]
     },
     "execution_count": 166,
     "metadata": {},
     "output_type": "execute_result"
    }
   ],
   "source": [
    "EPOCHS = 50\n",
    "\n",
    "# Stop when MAE is no longer decreasing\n",
    "early_stopping = tf.keras.callbacks.EarlyStopping(monitor='val_loss',\n",
    "                                                    patience=2,\n",
    "                                                    mode='min')\n",
    "\n",
    "model.fit(window.train, epochs=EPOCHS,\n",
    "            validation_data=window.val,\n",
    "            callbacks=[early_stopping])"
   ]
  },
  {
   "cell_type": "markdown",
   "metadata": {},
   "source": [
    "## 8. Results and Conclusion"
   ]
  },
  {
   "cell_type": "markdown",
   "metadata": {},
   "source": [
    "Our predictions are plotted below alongside the actual data. The predicted value at time `t = 30` turned out somewhat close to the actual value. Due to the volatile nature of stocks, this would not likely be the case in repeated experiments. However, the LSTM network does a reasonable job of following the overall trends of the stock."
   ]
  },
  {
   "cell_type": "code",
   "execution_count": 167,
   "metadata": {},
   "outputs": [
    {
     "data": {
      "image/png": "[encoded data removed]",
      "text/plain": [
       "<Figure size 864x576 with 3 Axes>"
      ]
     },
     "metadata": {
      "needs_background": "light"
     },
     "output_type": "display_data"
    }
   ],
   "source": [
    "window.plot(model)"
   ]
  },
  {
   "cell_type": "markdown",
   "metadata": {},
   "source": [
    "Future additions to this project could include:\n",
    "1. Pulling data directly from Yahoo Finance to include more recent stock data\n",
    "2. Optimizing hyperparameters for better model fit\n",
    "3. First calculating moving averages of the windowed data before feeding to NN\n",
    "4. Attempting autoregressive techniques, such as ARIMA, for predicting multiple future timesteps"
   ]
  }
 ],
 "metadata": {
  "kernelspec": {
   "display_name": "stocks",
   "language": "python",
   "name": "stocks"
  },
  "language_info": {
   "codemirror_mode": {
    "name": "ipython",
    "version": 3
   },
   "file_extension": ".py",
   "mimetype": "text/x-python",
   "name": "python",
   "nbconvert_exporter": "python",
   "pygments_lexer": "ipython3",
   "version": "3.7.9"
  }
 },
 "nbformat": 4,
 "nbformat_minor": 4
}
