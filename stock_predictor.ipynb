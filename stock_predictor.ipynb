{
 "cells": [
  {
   "cell_type": "markdown",
   "metadata": {},
   "source": [
    "# Predicting Stock Prices from Expected Earnings\n",
    "## 1. Overview\n",
    "This project uses a Recurrent Neural Network (RNN) through TensorFlow to predict stock prices the day after an earnings report. It takes as input the daily stock prices for the (approximately) 3-month period leading up to the earnings report, as well as the expected Earnings Per Share (EPS) prior to the report. Its output is the expected % difference between the next day's closing price and the previous day's high price.\n",
    "## 2. Collecting and Cleaning Data\n",
    "Data will be taken from the last 8 years' historical stock prices and earnings reports. It is housed in stocks_latest, which you should download on your own at <a href=\"https://www.kaggle.com/tsaustin/us-historical-stock-prices-with-earnings-data\">this link</a>."
   ]
  },
  {
   "cell_type": "markdown",
   "metadata": {},
   "source": [
    "First, let's import the packages we'll be using."
   ]
  },
  {
   "cell_type": "code",
   "execution_count": 1,
   "metadata": {},
   "outputs": [],
   "source": [
    "import os\n",
    "import datetime\n",
    "\n",
    "import matplotlib as mpl\n",
    "import matplotlib.pyplot as plt\n",
    "import numpy as np\n",
    "import pandas as pd\n",
    "import seaborn as sns\n",
    "import tensorflow as tf"
   ]
  },
  {
   "cell_type": "markdown",
   "metadata": {},
   "source": [
    "Next, we'll extract our data as pandas dataframes."
   ]
  },
  {
   "cell_type": "code",
   "execution_count": 31,
   "metadata": {},
   "outputs": [],
   "source": [
    "stocks_data_path = \"./datasets/stock_prices_latest.csv\"\n",
    "earnings_data_path = \"./datasets/earnings_latest.csv\"\n",
    "\n",
    "stocks_df = pd.read_csv(stocks_data_path)\n",
    "earnings_df = pd.read_csv(earnings_data_path)"
   ]
  },
  {
   "cell_type": "markdown",
   "metadata": {},
   "source": [
    "Let's see what data our stocks file contains:"
   ]
  },
  {
   "cell_type": "code",
   "execution_count": 34,
   "metadata": {},
   "outputs": [
    {
     "name": "stdout",
     "output_type": "stream",
     "text": [
      "<class 'pandas.core.frame.DataFrame'>\n",
      "RangeIndex: 23528435 entries, 0 to 23528434\n",
      "Data columns (total 9 columns):\n",
      " #   Column             Dtype  \n",
      "---  ------             -----  \n",
      " 0   symbol             object \n",
      " 1   date               object \n",
      " 2   open               float64\n",
      " 3   high               float64\n",
      " 4   low                float64\n",
      " 5   close              float64\n",
      " 6   close_adjusted     float64\n",
      " 7   volume             int64  \n",
      " 8   split_coefficient  float64\n",
      "dtypes: float64(6), int64(1), object(2)\n",
      "memory usage: 1.6+ GB\n"
     ]
    },
    {
     "data": {
      "text/html": [
       "<div>\n",
       "<style scoped>\n",
       "    .dataframe tbody tr th:only-of-type {\n",
       "        vertical-align: middle;\n",
       "    }\n",
       "\n",
       "    .dataframe tbody tr th {\n",
       "        vertical-align: top;\n",
       "    }\n",
       "\n",
       "    .dataframe thead th {\n",
       "        text-align: right;\n",
       "    }\n",
       "</style>\n",
       "<table border=\"1\" class=\"dataframe\">\n",
       "  <thead>\n",
       "    <tr style=\"text-align: right;\">\n",
       "      <th></th>\n",
       "      <th>symbol</th>\n",
       "      <th>date</th>\n",
       "      <th>open</th>\n",
       "      <th>high</th>\n",
       "      <th>low</th>\n",
       "      <th>close</th>\n",
       "      <th>close_adjusted</th>\n",
       "      <th>volume</th>\n",
       "      <th>split_coefficient</th>\n",
       "    </tr>\n",
       "  </thead>\n",
       "  <tbody>\n",
       "    <tr>\n",
       "      <th>0</th>\n",
       "      <td>MSFT</td>\n",
       "      <td>2016-05-16</td>\n",
       "      <td>50.80</td>\n",
       "      <td>51.96</td>\n",
       "      <td>50.75</td>\n",
       "      <td>51.83</td>\n",
       "      <td>49.7013</td>\n",
       "      <td>20032017</td>\n",
       "      <td>1.0</td>\n",
       "    </tr>\n",
       "    <tr>\n",
       "      <th>1</th>\n",
       "      <td>MSFT</td>\n",
       "      <td>2002-01-16</td>\n",
       "      <td>68.85</td>\n",
       "      <td>69.84</td>\n",
       "      <td>67.85</td>\n",
       "      <td>67.87</td>\n",
       "      <td>22.5902</td>\n",
       "      <td>30977700</td>\n",
       "      <td>1.0</td>\n",
       "    </tr>\n",
       "    <tr>\n",
       "      <th>2</th>\n",
       "      <td>MSFT</td>\n",
       "      <td>2001-09-18</td>\n",
       "      <td>53.41</td>\n",
       "      <td>55.00</td>\n",
       "      <td>53.17</td>\n",
       "      <td>54.32</td>\n",
       "      <td>18.0802</td>\n",
       "      <td>41591300</td>\n",
       "      <td>1.0</td>\n",
       "    </tr>\n",
       "    <tr>\n",
       "      <th>3</th>\n",
       "      <td>MSFT</td>\n",
       "      <td>2007-10-26</td>\n",
       "      <td>36.01</td>\n",
       "      <td>36.03</td>\n",
       "      <td>34.56</td>\n",
       "      <td>35.03</td>\n",
       "      <td>27.2232</td>\n",
       "      <td>288121200</td>\n",
       "      <td>1.0</td>\n",
       "    </tr>\n",
       "    <tr>\n",
       "      <th>4</th>\n",
       "      <td>MSFT</td>\n",
       "      <td>2014-06-27</td>\n",
       "      <td>41.61</td>\n",
       "      <td>42.29</td>\n",
       "      <td>41.51</td>\n",
       "      <td>42.25</td>\n",
       "      <td>38.6773</td>\n",
       "      <td>74640000</td>\n",
       "      <td>1.0</td>\n",
       "    </tr>\n",
       "  </tbody>\n",
       "</table>\n",
       "</div>"
      ],
      "text/plain": [
       "  symbol        date   open   high    low  close  close_adjusted     volume  \\\n",
       "0   MSFT  2016-05-16  50.80  51.96  50.75  51.83         49.7013   20032017   \n",
       "1   MSFT  2002-01-16  68.85  69.84  67.85  67.87         22.5902   30977700   \n",
       "2   MSFT  2001-09-18  53.41  55.00  53.17  54.32         18.0802   41591300   \n",
       "3   MSFT  2007-10-26  36.01  36.03  34.56  35.03         27.2232  288121200   \n",
       "4   MSFT  2014-06-27  41.61  42.29  41.51  42.25         38.6773   74640000   \n",
       "\n",
       "   split_coefficient  \n",
       "0                1.0  \n",
       "1                1.0  \n",
       "2                1.0  \n",
       "3                1.0  \n",
       "4                1.0  "
      ]
     },
     "execution_count": 34,
     "metadata": {},
     "output_type": "execute_result"
    }
   ],
   "source": [
    "stocks_df.info()\n",
    "stocks_df.head()"
   ]
  },
  {
   "cell_type": "markdown",
   "metadata": {},
   "source": [
    "We'll do the following to clean up this dataset:\n",
    "1. Remove split_coefficient and close, opting for close_adjusted instead\n",
    "2. Rename close_adjusted to close\n",
    "3. Convert our dates to datetime objects in pandas\n",
    "4. Sort first by symbol, then by date"
   ]
  },
  {
   "cell_type": "code",
   "execution_count": 35,
   "metadata": {},
   "outputs": [
    {
     "data": {
      "text/html": [
       "<div>\n",
       "<style scoped>\n",
       "    .dataframe tbody tr th:only-of-type {\n",
       "        vertical-align: middle;\n",
       "    }\n",
       "\n",
       "    .dataframe tbody tr th {\n",
       "        vertical-align: top;\n",
       "    }\n",
       "\n",
       "    .dataframe thead th {\n",
       "        text-align: right;\n",
       "    }\n",
       "</style>\n",
       "<table border=\"1\" class=\"dataframe\">\n",
       "  <thead>\n",
       "    <tr style=\"text-align: right;\">\n",
       "      <th></th>\n",
       "      <th>symbol</th>\n",
       "      <th>date</th>\n",
       "      <th>open</th>\n",
       "      <th>high</th>\n",
       "      <th>low</th>\n",
       "      <th>close</th>\n",
       "      <th>volume</th>\n",
       "    </tr>\n",
       "  </thead>\n",
       "  <tbody>\n",
       "    <tr>\n",
       "      <th>19762470</th>\n",
       "      <td>A</td>\n",
       "      <td>1999-11-18</td>\n",
       "      <td>45.50</td>\n",
       "      <td>50.00</td>\n",
       "      <td>40.00</td>\n",
       "      <td>29.6303</td>\n",
       "      <td>44739900</td>\n",
       "    </tr>\n",
       "    <tr>\n",
       "      <th>19762410</th>\n",
       "      <td>A</td>\n",
       "      <td>1999-11-19</td>\n",
       "      <td>42.94</td>\n",
       "      <td>43.00</td>\n",
       "      <td>39.81</td>\n",
       "      <td>27.1926</td>\n",
       "      <td>10897100</td>\n",
       "    </tr>\n",
       "    <tr>\n",
       "      <th>19762440</th>\n",
       "      <td>A</td>\n",
       "      <td>1999-11-22</td>\n",
       "      <td>41.31</td>\n",
       "      <td>44.00</td>\n",
       "      <td>40.06</td>\n",
       "      <td>29.6303</td>\n",
       "      <td>4705200</td>\n",
       "    </tr>\n",
       "    <tr>\n",
       "      <th>19762399</th>\n",
       "      <td>A</td>\n",
       "      <td>1999-11-23</td>\n",
       "      <td>42.50</td>\n",
       "      <td>43.63</td>\n",
       "      <td>40.25</td>\n",
       "      <td>27.1050</td>\n",
       "      <td>4274400</td>\n",
       "    </tr>\n",
       "    <tr>\n",
       "      <th>19762394</th>\n",
       "      <td>A</td>\n",
       "      <td>1999-11-24</td>\n",
       "      <td>40.13</td>\n",
       "      <td>41.94</td>\n",
       "      <td>40.00</td>\n",
       "      <td>27.6505</td>\n",
       "      <td>3464400</td>\n",
       "    </tr>\n",
       "  </tbody>\n",
       "</table>\n",
       "</div>"
      ],
      "text/plain": [
       "         symbol       date   open   high    low    close    volume\n",
       "19762470      A 1999-11-18  45.50  50.00  40.00  29.6303  44739900\n",
       "19762410      A 1999-11-19  42.94  43.00  39.81  27.1926  10897100\n",
       "19762440      A 1999-11-22  41.31  44.00  40.06  29.6303   4705200\n",
       "19762399      A 1999-11-23  42.50  43.63  40.25  27.1050   4274400\n",
       "19762394      A 1999-11-24  40.13  41.94  40.00  27.6505   3464400"
      ]
     },
     "execution_count": 35,
     "metadata": {},
     "output_type": "execute_result"
    }
   ],
   "source": [
    "stocks_df.drop(['split_coefficient','close'], axis=1, errors='ignore', inplace=True)\n",
    "stocks_df.rename(columns={'close_adjusted':'close'}, inplace=True)\n",
    "stocks_df['date'] = pd.to_datetime(stocks_df.date)\n",
    "stocks_df.sort_values(by=['symbol','date'], inplace=True)\n",
    "stocks_df.head()"
   ]
  },
  {
   "cell_type": "markdown",
   "metadata": {},
   "source": [
    "We'll be feeding our NN the stock prices for each 90-day period leading up to an earnings report. First, we'll group the stock data by symbol."
   ]
  },
  {
   "cell_type": "code",
   "execution_count": 36,
   "metadata": {},
   "outputs": [
    {
     "name": "stdout",
     "output_type": "stream",
     "text": [
      "         symbol       date      open     high      low   close    volume\n",
      "20646711     ZM 2019-04-18   65.0000   66.000   60.321   62.00  25764659\n",
      "20646712     ZM 2019-04-22   61.0000   68.900   59.940   65.70   9949738\n",
      "20646710     ZM 2019-04-23   66.8700   74.169   65.550   69.00   6786513\n",
      "20646715     ZM 2019-04-24   71.4000   71.500   63.160   63.20   4973529\n",
      "20646709     ZM 2019-04-25   64.7400   66.850   62.600   65.00   3863275\n",
      "...         ...        ...       ...      ...      ...     ...       ...\n",
      "23487984     ZM 2020-11-02  462.2900  477.000  440.000  453.00   8051893\n",
      "23487983     ZM 2020-11-03  456.3284  461.880  445.010  451.51   6496995\n",
      "23487980     ZM 2020-11-04  471.9200  484.940  455.400  483.70   8048450\n",
      "23487985     ZM 2020-11-05  497.9900  499.350  480.761  496.73   6379939\n",
      "23487982     ZM 2020-11-06  494.6600  505.880  482.730  500.11   4248801\n",
      "\n",
      "[394 rows x 7 columns]\n"
     ]
    }
   ],
   "source": [
    "stock_df_sep = dict(tuple(stocks_df.groupby('symbol')))\n",
    "symbol1 = stock_df_sep['ZM']\n",
    "print(symbol1)"
   ]
  },
  {
   "cell_type": "markdown",
   "metadata": {},
   "source": [
    "Now we'll need to use our earnings data, and particularly the dates of earnings periods for each company, to further separate our data into 90-day chunks. Let's explore our earnings data:"
   ]
  },
  {
   "cell_type": "code",
   "execution_count": 39,
   "metadata": {},
   "outputs": [
    {
     "name": "stdout",
     "output_type": "stream",
     "text": [
      "<class 'pandas.core.frame.DataFrame'>\n",
      "RangeIndex: 160660 entries, 0 to 160659\n",
      "Data columns (total 6 columns):\n",
      " #   Column        Non-Null Count   Dtype  \n",
      "---  ------        --------------   -----  \n",
      " 0   symbol        160660 non-null  object \n",
      " 1   date          160660 non-null  object \n",
      " 2   qtr           159656 non-null  object \n",
      " 3   eps_est       103413 non-null  float64\n",
      " 4   eps           128273 non-null  float64\n",
      " 5   release_time  105929 non-null  object \n",
      "dtypes: float64(2), object(4)\n",
      "memory usage: 7.4+ MB\n"
     ]
    },
    {
     "data": {
      "text/html": [
       "<div>\n",
       "<style scoped>\n",
       "    .dataframe tbody tr th:only-of-type {\n",
       "        vertical-align: middle;\n",
       "    }\n",
       "\n",
       "    .dataframe tbody tr th {\n",
       "        vertical-align: top;\n",
       "    }\n",
       "\n",
       "    .dataframe thead th {\n",
       "        text-align: right;\n",
       "    }\n",
       "</style>\n",
       "<table border=\"1\" class=\"dataframe\">\n",
       "  <thead>\n",
       "    <tr style=\"text-align: right;\">\n",
       "      <th></th>\n",
       "      <th>symbol</th>\n",
       "      <th>date</th>\n",
       "      <th>qtr</th>\n",
       "      <th>eps_est</th>\n",
       "      <th>eps</th>\n",
       "      <th>release_time</th>\n",
       "    </tr>\n",
       "  </thead>\n",
       "  <tbody>\n",
       "    <tr>\n",
       "      <th>0</th>\n",
       "      <td>A</td>\n",
       "      <td>2009-05-14</td>\n",
       "      <td>04/2009</td>\n",
       "      <td>NaN</td>\n",
       "      <td>NaN</td>\n",
       "      <td>post</td>\n",
       "    </tr>\n",
       "    <tr>\n",
       "      <th>1</th>\n",
       "      <td>A</td>\n",
       "      <td>2009-08-17</td>\n",
       "      <td>07/2009</td>\n",
       "      <td>NaN</td>\n",
       "      <td>NaN</td>\n",
       "      <td>post</td>\n",
       "    </tr>\n",
       "    <tr>\n",
       "      <th>2</th>\n",
       "      <td>A</td>\n",
       "      <td>2009-11-13</td>\n",
       "      <td>10/2009</td>\n",
       "      <td>NaN</td>\n",
       "      <td>NaN</td>\n",
       "      <td>pre</td>\n",
       "    </tr>\n",
       "    <tr>\n",
       "      <th>3</th>\n",
       "      <td>A</td>\n",
       "      <td>2010-02-12</td>\n",
       "      <td>01/2010</td>\n",
       "      <td>NaN</td>\n",
       "      <td>NaN</td>\n",
       "      <td>pre</td>\n",
       "    </tr>\n",
       "    <tr>\n",
       "      <th>4</th>\n",
       "      <td>A</td>\n",
       "      <td>2010-05-17</td>\n",
       "      <td>04/2010</td>\n",
       "      <td>NaN</td>\n",
       "      <td>NaN</td>\n",
       "      <td>post</td>\n",
       "    </tr>\n",
       "  </tbody>\n",
       "</table>\n",
       "</div>"
      ],
      "text/plain": [
       "  symbol        date      qtr  eps_est  eps release_time\n",
       "0      A  2009-05-14  04/2009      NaN  NaN         post\n",
       "1      A  2009-08-17  07/2009      NaN  NaN         post\n",
       "2      A  2009-11-13  10/2009      NaN  NaN          pre\n",
       "3      A  2010-02-12  01/2010      NaN  NaN          pre\n",
       "4      A  2010-05-17  04/2010      NaN  NaN         post"
      ]
     },
     "execution_count": 39,
     "metadata": {},
     "output_type": "execute_result"
    }
   ],
   "source": [
    "earnings_df.info()\n",
    "earnings_df.head()"
   ]
  },
  {
   "cell_type": "markdown",
   "metadata": {},
   "source": [
    "If a stock doesn't report earnings for a period, we can remove that period."
   ]
  },
  {
   "cell_type": "code",
   "execution_count": 42,
   "metadata": {},
   "outputs": [
    {
     "data": {
      "text/html": [
       "<div>\n",
       "<style scoped>\n",
       "    .dataframe tbody tr th:only-of-type {\n",
       "        vertical-align: middle;\n",
       "    }\n",
       "\n",
       "    .dataframe tbody tr th {\n",
       "        vertical-align: top;\n",
       "    }\n",
       "\n",
       "    .dataframe thead th {\n",
       "        text-align: right;\n",
       "    }\n",
       "</style>\n",
       "<table border=\"1\" class=\"dataframe\">\n",
       "  <thead>\n",
       "    <tr style=\"text-align: right;\">\n",
       "      <th></th>\n",
       "      <th>symbol</th>\n",
       "      <th>date</th>\n",
       "      <th>qtr</th>\n",
       "      <th>eps_est</th>\n",
       "      <th>eps</th>\n",
       "      <th>release_time</th>\n",
       "    </tr>\n",
       "  </thead>\n",
       "  <tbody>\n",
       "    <tr>\n",
       "      <th>14</th>\n",
       "      <td>A</td>\n",
       "      <td>2012-11-19</td>\n",
       "      <td>10/2012</td>\n",
       "      <td>0.80</td>\n",
       "      <td>0.84</td>\n",
       "      <td>post</td>\n",
       "    </tr>\n",
       "    <tr>\n",
       "      <th>15</th>\n",
       "      <td>A</td>\n",
       "      <td>2013-02-14</td>\n",
       "      <td>01/2013</td>\n",
       "      <td>0.66</td>\n",
       "      <td>0.63</td>\n",
       "      <td>post</td>\n",
       "    </tr>\n",
       "    <tr>\n",
       "      <th>16</th>\n",
       "      <td>A</td>\n",
       "      <td>2013-05-14</td>\n",
       "      <td>04/2013</td>\n",
       "      <td>0.67</td>\n",
       "      <td>0.77</td>\n",
       "      <td>post</td>\n",
       "    </tr>\n",
       "    <tr>\n",
       "      <th>17</th>\n",
       "      <td>A</td>\n",
       "      <td>2013-08-14</td>\n",
       "      <td>07/2013</td>\n",
       "      <td>0.62</td>\n",
       "      <td>0.68</td>\n",
       "      <td>post</td>\n",
       "    </tr>\n",
       "    <tr>\n",
       "      <th>18</th>\n",
       "      <td>A</td>\n",
       "      <td>2013-11-14</td>\n",
       "      <td>10/2013</td>\n",
       "      <td>0.76</td>\n",
       "      <td>0.81</td>\n",
       "      <td>post</td>\n",
       "    </tr>\n",
       "  </tbody>\n",
       "</table>\n",
       "</div>"
      ],
      "text/plain": [
       "   symbol        date      qtr  eps_est   eps release_time\n",
       "14      A  2012-11-19  10/2012     0.80  0.84         post\n",
       "15      A  2013-02-14  01/2013     0.66  0.63         post\n",
       "16      A  2013-05-14  04/2013     0.67  0.77         post\n",
       "17      A  2013-08-14  07/2013     0.62  0.68         post\n",
       "18      A  2013-11-14  10/2013     0.76  0.81         post"
      ]
     },
     "execution_count": 42,
     "metadata": {},
     "output_type": "execute_result"
    }
   ],
   "source": [
    "earnings_df.dropna(inplace=True)\n",
    "earnings_df.head()"
   ]
  }
 ],
 "metadata": {
  "kernelspec": {
   "display_name": "stocks",
   "language": "python",
   "name": "stocks"
  },
  "language_info": {
   "codemirror_mode": {
    "name": "ipython",
    "version": 3
   },
   "file_extension": ".py",
   "mimetype": "text/x-python",
   "name": "python",
   "nbconvert_exporter": "python",
   "pygments_lexer": "ipython3",
   "version": "3.7.9"
  }
 },
 "nbformat": 4,
 "nbformat_minor": 4
}
